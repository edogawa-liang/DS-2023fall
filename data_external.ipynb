{
 "cells": [
  {
   "cell_type": "code",
   "execution_count": 4,
   "id": "2e899fb0",
   "metadata": {},
   "outputs": [
    {
     "data": {
      "application/javascript": "IPython.notebook.set_autosave_interval(120000)"
     },
     "metadata": {},
     "output_type": "display_data"
    },
    {
     "name": "stdout",
     "output_type": "stream",
     "text": [
      "Autosaving every 120 seconds\n"
     ]
    }
   ],
   "source": [
    "import warnings\n",
    "warnings.filterwarnings(\"ignore\")\n",
    "\n",
    "import numpy as np\n",
    "import pandas as pd\n",
    "import os\n",
    "import glob\n",
    "import matplotlib.pyplot as plt\n",
    "import seaborn as sns\n",
    "from datetime import datetime\n",
    "\n",
    "%autosave 120"
   ]
  },
  {
   "cell_type": "markdown",
   "id": "80c7bfe5",
   "metadata": {},
   "source": [
    "## external 資料 取出臺北市"
   ]
  },
  {
   "cell_type": "code",
   "execution_count": 10,
   "id": "99f60d0a",
   "metadata": {},
   "outputs": [],
   "source": [
    "# 永豐 external\n",
    "path_2 = r'/Users/liang/Documents/NCKU_DS/資料科學/數位沙盒/raw_data/external_data'\n",
    "fnames = glob.glob(path_2 + r'/*.csv', recursive=False)\n",
    "high = pd.read_csv(fnames[0])\n",
    "ele = pd.read_csv(fnames[1])\n",
    "train = pd.read_csv(fnames[2])\n",
    "bike = pd.read_csv(fnames[3])\n",
    "hosp = pd.read_csv(fnames[5])\n",
    "bus = pd.read_csv(fnames[6])\n",
    "juni = pd.read_csv(fnames[7])\n",
    "uni = pd.read_csv(fnames[8])\n",
    "conv = pd.read_csv(fnames[9])\n",
    "atm = pd.read_csv(fnames[10])\n",
    "bank = pd.read_csv(fnames[11])\n",
    "mrt = pd.read_csv(fnames[12])\n",
    "post = pd.read_csv(fnames[13])"
   ]
  },
  {
   "cell_type": "code",
   "execution_count": 11,
   "id": "1ad2d591",
   "metadata": {},
   "outputs": [
    {
     "data": {
      "text/html": [
       "<div>\n",
       "<style scoped>\n",
       "    .dataframe tbody tr th:only-of-type {\n",
       "        vertical-align: middle;\n",
       "    }\n",
       "\n",
       "    .dataframe tbody tr th {\n",
       "        vertical-align: top;\n",
       "    }\n",
       "\n",
       "    .dataframe thead th {\n",
       "        text-align: right;\n",
       "    }\n",
       "</style>\n",
       "<table border=\"1\" class=\"dataframe\">\n",
       "  <thead>\n",
       "    <tr style=\"text-align: right;\">\n",
       "      <th></th>\n",
       "      <th>縣市</th>\n",
       "      <th>站點UID</th>\n",
       "      <th>業管機關代碼</th>\n",
       "      <th>站點名稱</th>\n",
       "      <th>lat</th>\n",
       "      <th>lng</th>\n",
       "    </tr>\n",
       "  </thead>\n",
       "  <tbody>\n",
       "    <tr>\n",
       "      <th>0</th>\n",
       "      <td>台北市</td>\n",
       "      <td>TPE10072</td>\n",
       "      <td>4</td>\n",
       "      <td>廣合新村</td>\n",
       "      <td>25.060670</td>\n",
       "      <td>121.563390</td>\n",
       "    </tr>\n",
       "    <tr>\n",
       "      <th>1</th>\n",
       "      <td>台北市</td>\n",
       "      <td>TPE10073</td>\n",
       "      <td>4</td>\n",
       "      <td>民權中山路口</td>\n",
       "      <td>25.062714</td>\n",
       "      <td>121.522301</td>\n",
       "    </tr>\n",
       "    <tr>\n",
       "      <th>2</th>\n",
       "      <td>台北市</td>\n",
       "      <td>TPE10074</td>\n",
       "      <td>4</td>\n",
       "      <td>三民國小</td>\n",
       "      <td>25.062830</td>\n",
       "      <td>121.563620</td>\n",
       "    </tr>\n",
       "    <tr>\n",
       "      <th>3</th>\n",
       "      <td>台北市</td>\n",
       "      <td>TPE10075</td>\n",
       "      <td>4</td>\n",
       "      <td>捷運中山國小站</td>\n",
       "      <td>25.062669</td>\n",
       "      <td>121.525381</td>\n",
       "    </tr>\n",
       "    <tr>\n",
       "      <th>4</th>\n",
       "      <td>台北市</td>\n",
       "      <td>TPE10076</td>\n",
       "      <td>4</td>\n",
       "      <td>新益里</td>\n",
       "      <td>25.062286</td>\n",
       "      <td>121.566155</td>\n",
       "    </tr>\n",
       "    <tr>\n",
       "      <th>...</th>\n",
       "      <td>...</td>\n",
       "      <td>...</td>\n",
       "      <td>...</td>\n",
       "      <td>...</td>\n",
       "      <td>...</td>\n",
       "      <td>...</td>\n",
       "    </tr>\n",
       "    <tr>\n",
       "      <th>111756</th>\n",
       "      <td>高雄市</td>\n",
       "      <td>KHH9951</td>\n",
       "      <td>9</td>\n",
       "      <td>福安</td>\n",
       "      <td>22.896550</td>\n",
       "      <td>120.519450</td>\n",
       "    </tr>\n",
       "    <tr>\n",
       "      <th>111757</th>\n",
       "      <td>高雄市</td>\n",
       "      <td>KHH996</td>\n",
       "      <td>9</td>\n",
       "      <td>山明路口(宏平路)</td>\n",
       "      <td>22.569945</td>\n",
       "      <td>120.360106</td>\n",
       "    </tr>\n",
       "    <tr>\n",
       "      <th>111758</th>\n",
       "      <td>高雄市</td>\n",
       "      <td>KHH997</td>\n",
       "      <td>9</td>\n",
       "      <td>山明路口(宏平路)</td>\n",
       "      <td>22.569945</td>\n",
       "      <td>120.360106</td>\n",
       "    </tr>\n",
       "    <tr>\n",
       "      <th>111759</th>\n",
       "      <td>高雄市</td>\n",
       "      <td>KHH998</td>\n",
       "      <td>9</td>\n",
       "      <td>廠邊三路口(宏平路)</td>\n",
       "      <td>22.569993</td>\n",
       "      <td>120.357784</td>\n",
       "    </tr>\n",
       "    <tr>\n",
       "      <th>111760</th>\n",
       "      <td>高雄市</td>\n",
       "      <td>KHH999</td>\n",
       "      <td>9</td>\n",
       "      <td>廠邊三路口(宏平路)</td>\n",
       "      <td>22.569993</td>\n",
       "      <td>120.357784</td>\n",
       "    </tr>\n",
       "  </tbody>\n",
       "</table>\n",
       "<p>111761 rows × 6 columns</p>\n",
       "</div>"
      ],
      "text/plain": [
       "         縣市     站點UID  業管機關代碼        站點名稱        lat         lng\n",
       "0       台北市  TPE10072       4        廣合新村  25.060670  121.563390\n",
       "1       台北市  TPE10073       4      民權中山路口  25.062714  121.522301\n",
       "2       台北市  TPE10074       4        三民國小  25.062830  121.563620\n",
       "3       台北市  TPE10075       4     捷運中山國小站  25.062669  121.525381\n",
       "4       台北市  TPE10076       4         新益里  25.062286  121.566155\n",
       "...     ...       ...     ...         ...        ...         ...\n",
       "111756  高雄市   KHH9951       9          福安  22.896550  120.519450\n",
       "111757  高雄市    KHH996       9   山明路口(宏平路)  22.569945  120.360106\n",
       "111758  高雄市    KHH997       9   山明路口(宏平路)  22.569945  120.360106\n",
       "111759  高雄市    KHH998       9  廠邊三路口(宏平路)  22.569993  120.357784\n",
       "111760  高雄市    KHH999       9  廠邊三路口(宏平路)  22.569993  120.357784\n",
       "\n",
       "[111761 rows x 6 columns]"
      ]
     },
     "execution_count": 11,
     "metadata": {},
     "output_type": "execute_result"
    }
   ],
   "source": [
    "bus"
   ]
  },
  {
   "cell_type": "code",
   "execution_count": 7,
   "id": "cf0d8020",
   "metadata": {},
   "outputs": [],
   "source": [
    "thigh = high[high['縣市名稱'].str.contains('臺北|台北')==True]\n",
    "tele = ele[ele['縣市名稱'].str.contains('臺北|台北')==True]\n",
    "ttrain = train[train['站點地址'].str.contains('臺北|台北')==True]\n",
    "tbike = bike[bike['縣市'].str.contains('臺北|台北')==True]\n",
    "thosp = hosp[hosp['縣市鄉鎮'].str.contains('臺北|台北')==True]\n",
    "tbus = bus[bus['縣市'].str.contains('臺北|台北')==True]\n",
    "tjuni = juni[juni['縣市名稱'].str.contains('臺北|台北')==True]\n",
    "tuni = uni[uni['縣市名稱'].str.contains('臺北|台北')==True]\n",
    "tconv = conv[conv['分公司地址'].str.contains('臺北|台北')==True]\n",
    "tatm = atm[atm['裝設地址'].str.contains('臺北|台北')==True]\n",
    "tbank = bank[bank['地址'].str.contains('臺北|台北')==True]\n",
    "tmrt = mrt[mrt['站點地址'].str.contains('臺北|台北')==True]\n",
    "tpost = post[post['局址'].str.contains('臺北|台北')==True]"
   ]
  },
  {
   "cell_type": "code",
   "execution_count": 9,
   "id": "7380b137",
   "metadata": {},
   "outputs": [
    {
     "name": "stdout",
     "output_type": "stream",
     "text": [
      "高中 (70, 17)\n",
      "小學 (154, 30)\n",
      "火車站 (5, 6)\n",
      "腳踏車 (1240, 8)\n",
      "醫院 (3744, 41)\n",
      "公車站 (27499, 6)\n",
      "國中 (90, 21)\n",
      "大學 (128, 27)\n",
      "便利商店 (1809, 5)\n",
      "atm (3588, 7)\n",
      "銀行 (1030, 7)\n",
      "捷運 (87, 7)\n",
      "郵局 (154, 9)\n"
     ]
    }
   ],
   "source": [
    "print('高中', thigh.shape)\n",
    "print('小學', tele.shape)\n",
    "print('火車站', ttrain.shape)\n",
    "print('腳踏車', tbike.shape)\n",
    "print('醫院', thosp.shape)\n",
    "print('公車站', tbus.shape)\n",
    "print('國中', tjuni.shape)\n",
    "print('大學', tuni.shape)\n",
    "print('便利商店', tconv.shape)\n",
    "print('atm', tatm.shape)\n",
    "print('銀行', tbank.shape)\n",
    "print('捷運', tmrt.shape)\n",
    "print('郵局', tpost.shape)"
   ]
  },
  {
   "cell_type": "code",
   "execution_count": null,
   "id": "39b90d64",
   "metadata": {},
   "outputs": [],
   "source": [
    "path_external = r'/Users/liang/Documents/NCKU_DS/資料科學/數位沙盒/clean_data/taipei_external'"
   ]
  },
  {
   "cell_type": "code",
   "execution_count": null,
   "id": "5c323e43",
   "metadata": {},
   "outputs": [],
   "source": [
    "thigh.to_csv(path_external +r'/台北高中.csv', sep=',', encoding='utf-8', index=False)\n",
    "tele.to_csv(path_external +r'/台北小學.csv', sep=',', encoding='utf-8', index=False)\n",
    "ttrain.to_csv(path_external +r'/台北火車站.csv', sep=',', encoding='utf-8', index=False)\n",
    "tbike.to_csv(path_external +r'/台北腳踏車.csv', sep=',', encoding='utf-8', index=False)\n",
    "thosp.to_csv(path_external +r'/台北醫院.csv', sep=',', encoding='utf-8', index=False)\n",
    "tbus.to_csv(path_external +r'/台北公車.csv', sep=',', encoding='utf-8', index=False)\n",
    "tjuni.to_csv(path_external +r'/台北國中.csv', sep=',', encoding='utf-8', index=False)\n",
    "tuni.to_csv(path_external +r'/台北大學.csv', sep=',', encoding='utf-8', index=False)\n",
    "tconv.to_csv(path_external +r'/台北便利商店.csv', sep=',', encoding='utf-8', index=False)\n",
    "tatm.to_csv(path_external +r'/台北atm.csv', sep=',', encoding='utf-8', index=False)\n",
    "tbank.to_csv(path_external +r'/台北銀行.csv', sep=',', encoding='utf-8', index=False)\n",
    "tmrt.to_csv(path_external +r'/台北捷運.csv', sep=',', encoding='utf-8', index=False)\n",
    "tpost.to_csv(path_external +r'/台北郵局.csv', sep=',', encoding='utf-8', index=False)"
   ]
  },
  {
   "cell_type": "code",
   "execution_count": null,
   "id": "55cf36ba",
   "metadata": {},
   "outputs": [],
   "source": []
  }
 ],
 "metadata": {
  "kernelspec": {
   "display_name": "Python 3 (ipykernel)",
   "language": "python",
   "name": "python3"
  },
  "language_info": {
   "codemirror_mode": {
    "name": "ipython",
    "version": 3
   },
   "file_extension": ".py",
   "mimetype": "text/x-python",
   "name": "python",
   "nbconvert_exporter": "python",
   "pygments_lexer": "ipython3",
   "version": "3.11.5"
  }
 },
 "nbformat": 4,
 "nbformat_minor": 5
}
