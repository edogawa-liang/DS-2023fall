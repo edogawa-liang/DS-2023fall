{
 "cells": [
  {
   "cell_type": "code",
   "execution_count": 2,
   "id": "4d25a294",
   "metadata": {
    "tags": []
   },
   "outputs": [
    {
     "data": {
      "application/javascript": "IPython.notebook.set_autosave_interval(120000)"
     },
     "metadata": {},
     "output_type": "display_data"
    },
    {
     "name": "stdout",
     "output_type": "stream",
     "text": [
      "Autosaving every 120 seconds\n"
     ]
    }
   ],
   "source": [
    "import warnings\n",
    "warnings.filterwarnings(\"ignore\")\n",
    "\n",
    "import numpy as np\n",
    "import pandas as pd\n",
    "import os\n",
    "import re\n",
    "\n",
    "import glob\n",
    "import matplotlib.pyplot as plt\n",
    "import seaborn as sns\n",
    "from datetime import datetime\n",
    "\n",
    "from sklearn.preprocessing import OneHotEncoder, OrdinalEncoder, LabelEncoder\n",
    "from sklearn.impute import KNNImputer\n",
    "\n",
    "%autosave 120"
   ]
  },
  {
   "cell_type": "code",
   "execution_count": null,
   "id": "b82893bb",
   "metadata": {},
   "outputs": [],
   "source": []
  },
  {
   "cell_type": "markdown",
   "id": "cfd1c112",
   "metadata": {},
   "source": [
    "## 實價登錄資料: 1_data"
   ]
  },
  {
   "cell_type": "code",
   "execution_count": 2,
   "id": "ca4daa4b",
   "metadata": {},
   "outputs": [
    {
     "name": "stdout",
     "output_type": "stream",
     "text": [
      "(758223, 54)\n",
      "(843462, 54)\n",
      "(340936, 54)\n",
      "(1942621, 54)\n"
     ]
    }
   ],
   "source": [
    "path_ = r'/Users/liang/Documents/NCKU_DS/資料科學/數位沙盒/raw_data'\n",
    "data1 = pd.read_csv(path_ + r'/AAPRTRAN_20171201_20191231.csv')\n",
    "data2 = pd.read_csv(path_ + r'/AAPRTRAN_20200101_20220101.csv')\n",
    "data3 = pd.read_csv(path_ + r'/AAPRTRAN_after_20220101.csv')\n",
    "data = pd.concat([data1, data2, data3], axis=0)\n",
    "print(data1.shape)\n",
    "print(data2.shape)\n",
    "print(data3.shape)\n",
    "print(data.shape)\n",
    "#data"
   ]
  },
  {
   "cell_type": "code",
   "execution_count": 3,
   "id": "43064d10",
   "metadata": {},
   "outputs": [
    {
     "name": "stdout",
     "output_type": "stream",
     "text": [
      "(70823, 54)\n"
     ]
    }
   ],
   "source": [
    "data = data[data['location'].str.contains('臺北|台北')==True]\n",
    "data = data[data['district_id'].str.contains('瑞芳區')==False]\n",
    "print(data.shape)"
   ]
  },
  {
   "cell_type": "code",
   "execution_count": 4,
   "id": "41ac1512",
   "metadata": {},
   "outputs": [
    {
     "name": "stdout",
     "output_type": "stream",
     "text": [
      "False    70823\n",
      "Name: count, dtype: int64\n"
     ]
    },
    {
     "data": {
      "text/html": [
       "<div>\n",
       "<style scoped>\n",
       "    .dataframe tbody tr th:only-of-type {\n",
       "        vertical-align: middle;\n",
       "    }\n",
       "\n",
       "    .dataframe tbody tr th {\n",
       "        vertical-align: top;\n",
       "    }\n",
       "\n",
       "    .dataframe thead th {\n",
       "        text-align: right;\n",
       "    }\n",
       "</style>\n",
       "<table border=\"1\" class=\"dataframe\">\n",
       "  <thead>\n",
       "    <tr style=\"text-align: right;\">\n",
       "      <th></th>\n",
       "      <th>None</th>\n",
       "      <th>coid</th>\n",
       "      <th>mdate</th>\n",
       "      <th>key3</th>\n",
       "      <th>district_id</th>\n",
       "      <th>district</th>\n",
       "      <th>tran_tp</th>\n",
       "      <th>tran_tp_fg</th>\n",
       "      <th>tsign</th>\n",
       "      <th>tsign_fg</th>\n",
       "      <th>...</th>\n",
       "      <th>berth_tp_fg</th>\n",
       "      <th>berth_area</th>\n",
       "      <th>tot_prc</th>\n",
       "      <th>unit_prc</th>\n",
       "      <th>berth_prc</th>\n",
       "      <th>rmk</th>\n",
       "      <th>ann_date</th>\n",
       "      <th>abnorm_td</th>\n",
       "      <th>abnorm_loc</th>\n",
       "      <th>abnorm_prc</th>\n",
       "    </tr>\n",
       "  </thead>\n",
       "  <tbody>\n",
       "  </tbody>\n",
       "</table>\n",
       "<p>0 rows × 54 columns</p>\n",
       "</div>"
      ],
      "text/plain": [
       "Empty DataFrame\n",
       "Columns: [None, coid, mdate, key3, district_id, district, tran_tp, tran_tp_fg, tsign, tsign_fg, location, road_fg, coord_x, coord_y, land, build, berth, land_area, zoning, zoning_fg, ncity_z, ncity_z_fg, land_use, land_use_fg, tran_floor, tran_up_ll, tran_single, tot_floor, top_floor, bstate, bstate_fg, mainuse, mainuse_fg, matl, matl_fg, build_dd, room_age, build_area, room, hall, health, compart, mgt_com, berth_tp, berth_tp_fg, berth_area, tot_prc, unit_prc, berth_prc, rmk, ann_date, abnorm_td, abnorm_loc, abnorm_prc]\n",
       "Index: []\n",
       "\n",
       "[0 rows x 54 columns]"
      ]
     },
     "execution_count": 4,
     "metadata": {},
     "output_type": "execute_result"
    }
   ],
   "source": [
    "# Duplicated\n",
    "print(data.duplicated().value_counts())\n",
    "data[data.duplicated()]"
   ]
  },
  {
   "cell_type": "code",
   "execution_count": 5,
   "id": "bb4e6cfc",
   "metadata": {},
   "outputs": [
    {
     "name": "stdout",
     "output_type": "stream",
     "text": [
      "原始資料：遺失值之變數及數量\n",
      "road_fg         6927\n",
      "coord_x         7532\n",
      "coord_y         7532\n",
      "zoning           783\n",
      "zoning_fg        783\n",
      "ncity_z        70690\n",
      "ncity_z_fg     70690\n",
      "land_use       70823\n",
      "land_use_fg    70823\n",
      "tran_floor       719\n",
      "mainuse         2375\n",
      "mainuse_fg      2375\n",
      "matl             729\n",
      "matl_fg          729\n",
      "build_dd       12602\n",
      "room_age       15693\n",
      "berth_tp       42463\n",
      "berth_tp_fg    42463\n",
      "rmk            32646\n",
      "abnorm_td      70823\n",
      "abnorm_loc     70204\n",
      "abnorm_prc     70787\n",
      "dtype: int64\n"
     ]
    }
   ],
   "source": [
    "data = data.rename(columns={data.columns[0]: 'ID'})\n",
    "print('原始資料：遺失值之變數及數量')\n",
    "print(data.isna().sum()[data.isna().sum()!=0])"
   ]
  },
  {
   "cell_type": "code",
   "execution_count": 6,
   "id": "bc841646",
   "metadata": {},
   "outputs": [
    {
     "data": {
      "text/plain": [
       "(67365, 54)"
      ]
     },
     "execution_count": 6,
     "metadata": {},
     "output_type": "execute_result"
    }
   ],
   "source": [
    "data = data[~data['tsign'].isin(['土地', '車位'])]\n",
    "data.shape"
   ]
  },
  {
   "cell_type": "code",
   "execution_count": 7,
   "id": "86a2592f",
   "metadata": {},
   "outputs": [],
   "source": [
    "# print('有遺失值之變數')\n",
    "# print(data.isna().sum()[data.isna().sum()!=0])"
   ]
  },
  {
   "cell_type": "code",
   "execution_count": 8,
   "id": "d0394505",
   "metadata": {},
   "outputs": [
    {
     "data": {
      "text/plain": [
       "(67365, 44)"
      ]
     },
     "execution_count": 8,
     "metadata": {},
     "output_type": "execute_result"
    }
   ],
   "source": [
    "# 去掉不必要欄位\n",
    "data = data.drop(['ncity_z', 'ncity_z_fg', 'land_use', 'land_use_fg', 'abnorm_td', 'abnorm_loc', 'abnorm_prc'], axis=1)\n",
    "data = data.drop(['coid', 'key3', 'district'], axis=1) #縣市、案碼\n",
    "data.shape"
   ]
  },
  {
   "cell_type": "code",
   "execution_count": 9,
   "id": "ed7b7e7a",
   "metadata": {},
   "outputs": [],
   "source": [
    "# 去掉時間多餘的部分\n",
    "data['mdate'] = pd.to_datetime(data['mdate']).dt.date\n",
    "data['ann_date'] = pd.to_datetime(data['ann_date']).dt.date\n",
    "data['build_dd'] = pd.to_datetime(data['build_dd']).dt.date"
   ]
  },
  {
   "cell_type": "code",
   "execution_count": 10,
   "id": "5dcd192c",
   "metadata": {},
   "outputs": [],
   "source": [
    "# 交易日 - 建築完成日期 當作屋齡，若為負則補 0\n",
    "time_delta = pd.to_timedelta(data['mdate'] - data['build_dd'], errors='coerce')\n",
    "age = time_delta.dt.days/365\n",
    "age = age.clip(lower=0)  #若小於０ 則算做0\n",
    "\n",
    "data['room_age']= data['room_age'].fillna(age) #使用 age 的值填充原data['room_age']中的 NaN"
   ]
  },
  {
   "cell_type": "code",
   "execution_count": 11,
   "id": "c0847a25",
   "metadata": {},
   "outputs": [
    {
     "data": {
      "text/plain": [
       "(67365, 37)"
      ]
     },
     "execution_count": 11,
     "metadata": {},
     "output_type": "execute_result"
    }
   ],
   "source": [
    "# 刪除為分類註記的變數（多餘的）\n",
    "data = data.drop(['tran_tp_fg','tsign_fg','zoning_fg','mainuse_fg', 'berth_tp_fg', 'matl_fg', 'bstate_fg'], axis=1) #縣市、案碼\n",
    "data.shape"
   ]
  },
  {
   "cell_type": "code",
   "execution_count": 12,
   "id": "d4f4f38f",
   "metadata": {},
   "outputs": [],
   "source": [
    "# 若備註欄位出現 ‘預售屋’ 則 tran_tp (交易別) 改為預售屋\n",
    "data.loc[data.index[data['rmk'].str.contains('預售')==True], 'tran_tp'] = '預售屋'\n",
    "\n",
    "# 若備註欄位出現 ‘毛胚屋’ 則 tran_tp (交易別) 改為毛胚屋\n",
    "data.loc[data.index[data['rmk'].str.contains('毛胚')==True], 'tran_tp'] = '毛胚屋'"
   ]
  },
  {
   "cell_type": "code",
   "execution_count": 13,
   "id": "597e3008",
   "metadata": {},
   "outputs": [],
   "source": [
    "# 若 berth_prc(車位總價)>0但 berth_area(車位總面積)為 0 的話, 則將 berth_area 改為 NA (原資料直接給0...)\n",
    "data.loc[(data['berth_prc'] > 0) & (data['berth_area'] == 0), 'berth_area'] = np.nan"
   ]
  },
  {
   "cell_type": "code",
   "execution_count": 14,
   "id": "985a7ce7",
   "metadata": {},
   "outputs": [],
   "source": [
    "# 將房廳衛合併為類別變數\n",
    "# layout = data['room'].astype(str) + '房' + data['hall'].astype(str) + '廳' + data['health'].astype(str) + '衛'\n",
    "# data['layout'] = layout"
   ]
  },
  {
   "cell_type": "code",
   "execution_count": 15,
   "id": "bba4e939",
   "metadata": {},
   "outputs": [
    {
     "name": "stdout",
     "output_type": "stream",
     "text": [
      "有遺失值之變數\n",
      "road_fg        6849\n",
      "coord_x        7452\n",
      "coord_y        7452\n",
      "zoning          644\n",
      "tran_floor       11\n",
      "mainuse        1646\n",
      "matl             21\n",
      "build_dd      11808\n",
      "room_age      11808\n",
      "berth_tp      42447\n",
      "berth_area     1044\n",
      "rmk           31035\n",
      "dtype: int64\n"
     ]
    }
   ],
   "source": [
    "print('有遺失值之變數')\n",
    "print(data.isna().sum()[data.isna().sum()!=0])"
   ]
  },
  {
   "cell_type": "code",
   "execution_count": null,
   "id": "83f56365",
   "metadata": {},
   "outputs": [],
   "source": []
  },
  {
   "cell_type": "code",
   "execution_count": 16,
   "id": "4f51a99a",
   "metadata": {},
   "outputs": [],
   "source": [
    "# 匯出資料\n",
    "path_clean = r'/Users/liang/Documents/NCKU_DS/資料科學/數位沙盒/clean_data'\n",
    "data.to_csv(path_clean + r'/1_data.csv', sep=',', encoding='utf-8', index=False)"
   ]
  },
  {
   "cell_type": "code",
   "execution_count": null,
   "id": "9570bf9e",
   "metadata": {},
   "outputs": [],
   "source": []
  },
  {
   "cell_type": "code",
   "execution_count": null,
   "id": "a7b257a8",
   "metadata": {},
   "outputs": [],
   "source": []
  },
  {
   "cell_type": "markdown",
   "id": "589b63b6",
   "metadata": {},
   "source": [
    "## 實價登錄資料: 2_data"
   ]
  },
  {
   "cell_type": "code",
   "execution_count": 28,
   "id": "1471a46e",
   "metadata": {},
   "outputs": [
    {
     "name": "stdout",
     "output_type": "stream",
     "text": [
      "(67365, 37)\n"
     ]
    }
   ],
   "source": [
    "path_clean = r'/Users/liang/Documents/NCKU_DS/資料科學/數位沙盒/clean_data'\n",
    "data = pd.read_csv(path_clean+ r'/1_data.csv')\n",
    "print(data.shape)"
   ]
  },
  {
   "cell_type": "code",
   "execution_count": 29,
   "id": "3ab8a459",
   "metadata": {},
   "outputs": [],
   "source": [
    "# 函數來將中文數字轉換為阿拉伯數字\n",
    "def chinese_to_arabic(cn_num):\n",
    "    chinese_numbers = {\n",
    "        '一': 1, '二': 2, '兩': 2, '三': 3, '四': 4, '五': 5,\n",
    "        '六': 6, '七': 7, '八': 8, '九': 9, '十': 10\n",
    "    }\n",
    "    total = 0\n",
    "    r = 1  # 表示單位：十、百、千...\n",
    "\n",
    "    for i in range(len(cn_num) - 1, -1, -1):\n",
    "        val = chinese_numbers.get(cn_num[i])\n",
    "        if val is not None:\n",
    "            if val == 10:\n",
    "                if i == 0:\n",
    "                    total += 10\n",
    "                else:\n",
    "                    r = 10\n",
    "            else:\n",
    "                total += val * r\n",
    "                r *= 10\n",
    "    return total\n",
    "\n",
    "# 函數來解析樓層資料\n",
    "def parse_floor(floor):\n",
    "    if pd.isna(floor):\n",
    "        return [np.nan, np.nan]\n",
    "    # 使用正則表達式找出所有中文數字\n",
    "    if floor == '全':\n",
    "        return[0, np.nan]\n",
    "    floors = re.findall(r'[一二兩三四五六七八九十]+', floor)\n",
    "    floors = [chinese_to_arabic(f) for f in floors]\n",
    "    if len(floors) == 0:\n",
    "        return [np.nan, np.nan]\n",
    "    return [min(floors), max(floors)]"
   ]
  },
  {
   "cell_type": "code",
   "execution_count": 30,
   "id": "25804507",
   "metadata": {},
   "outputs": [
    {
     "data": {
      "text/plain": [
       "(67365, 36)"
      ]
     },
     "execution_count": 30,
     "metadata": {},
     "output_type": "execute_result"
    }
   ],
   "source": [
    "floors = data['tran_floor'].tolist()\n",
    "\n",
    "parsed_floors = [parse_floor(floor) for floor in floors]\n",
    "floor_df = pd.DataFrame(parsed_floors, columns=['最低樓層', '最高樓層'])\n",
    "\n",
    "data = pd.concat([data, floor_df], axis=1)\n",
    "data.loc[data['最低樓層'] == 0, '最高樓層'] = data['tot_floor']\n",
    "data = data.drop([\"tran_floor\", \"tran_up_ll\", \"tran_single\"], axis=1)\n",
    "data.shape"
   ]
  },
  {
   "cell_type": "code",
   "execution_count": 31,
   "id": "d9b8cc10",
   "metadata": {},
   "outputs": [
    {
     "data": {
      "text/plain": [
       "(67365, 33)"
      ]
     },
     "execution_count": 31,
     "metadata": {},
     "output_type": "execute_result"
    }
   ],
   "source": [
    "# build_dd建造日期, compart不動產有無隔間, ann_date 公告日 刪\n",
    "data = data.drop(['build_dd', 'compart', 'ann_date'], axis=1)\n",
    "data.shape"
   ]
  },
  {
   "cell_type": "code",
   "execution_count": 38,
   "id": "a4fbf4c0",
   "metadata": {},
   "outputs": [
    {
     "name": "stdout",
     "output_type": "stream",
     "text": [
      "(60923, 33)\n",
      "(60923, 33)\n",
      "(60923, 33)\n",
      "(60923, 33)\n"
     ]
    }
   ],
   "source": [
    "# 特殊關係交易：刪\n",
    "data = data[data['rmk'].str.contains('特殊關係')!=True]\n",
    "print(data.shape)\n",
    "\n",
    "# 交易標的為建物：刪\n",
    "data = data[data['tsign'] != '建物']\n",
    "print(data.shape)\n",
    "\n",
    "# 建物型態: 倉庫工廠單價都是0 刪\n",
    "data = data[data['bstate']!='倉庫']\n",
    "data = data[data['bstate']!='工廠']\n",
    "print(data.shape)\n",
    "\n",
    "# 主要用途： 住商 工業 辦公室 留 其他併 其他\n",
    "data.loc[~data['mainuse'].isin(['住宅', '商業用', '住商用', '工業用', '辦公室']), 'mainuse'] = '其他'\n",
    "print(data.shape)"
   ]
  },
  {
   "cell_type": "code",
   "execution_count": 39,
   "id": "dba5cf83",
   "metadata": {},
   "outputs": [
    {
     "name": "stdout",
     "output_type": "stream",
     "text": [
      "有遺失值之變數\n",
      "road_fg        6634\n",
      "coord_x        7191\n",
      "coord_y        7191\n",
      "zoning          206\n",
      "matl             19\n",
      "room_age      10540\n",
      "berth_tp      37147\n",
      "berth_area     1012\n",
      "rmk           30890\n",
      "最低樓層            161\n",
      "最高樓層            161\n",
      "dtype: int64\n"
     ]
    }
   ],
   "source": [
    "print('有遺失值之變數')\n",
    "print(data.isna().sum()[data.isna().sum()!=0])"
   ]
  },
  {
   "cell_type": "code",
   "execution_count": 36,
   "id": "6e385656",
   "metadata": {},
   "outputs": [],
   "source": [
    "# 匯出資料\n",
    "path_clean = r'/Users/liang/Documents/NCKU_DS/資料科學/數位沙盒/clean_data'\n",
    "data.to_csv(path_clean + r'/2_data.csv', sep=',', encoding='utf-8', index=False)"
   ]
  },
  {
   "cell_type": "code",
   "execution_count": null,
   "id": "a4e2081f",
   "metadata": {},
   "outputs": [],
   "source": []
  },
  {
   "cell_type": "markdown",
   "id": "9c247a40",
   "metadata": {},
   "source": [
    "### 實價登錄資料: 3_data\n"
   ]
  },
  {
   "cell_type": "code",
   "execution_count": 4,
   "id": "4b9451d8",
   "metadata": {},
   "outputs": [
    {
     "name": "stdout",
     "output_type": "stream",
     "text": [
      "(60923, 33)\n"
     ]
    }
   ],
   "source": [
    "path_clean = r'/Users/liang/Documents/NCKU_DS/資料科學/數位沙盒/clean_data'\n",
    "data = pd.read_csv(path_clean+ r'/2_data.csv')\n",
    "print(data.shape)"
   ]
  },
  {
   "cell_type": "code",
   "execution_count": 42,
   "id": "590f9431",
   "metadata": {},
   "outputs": [
    {
     "data": {
      "text/plain": [
       "(60923, 31)"
      ]
     },
     "execution_count": 42,
     "metadata": {},
     "output_type": "execute_result"
    }
   ],
   "source": [
    "# 刪除 rmk tot_prc\n",
    "data = data.drop(['rmk', 'tot_prc'], axis=1)\n",
    "data.shape"
   ]
  },
  {
   "cell_type": "code",
   "execution_count": 45,
   "id": "201ff14a",
   "metadata": {},
   "outputs": [],
   "source": [
    "data.columns = ['ID', '交易日', '鄉鎮市區', '交易別', '交易標的', '門牌/地號', '臨路(Y/N)',\n",
    "       '緯度', '經度', '土地', '建物', '車位', '土地移轉坪數', '都市土地使用分區',\n",
    "       '總樓層', '頂樓註記(Y/N)', '建物型態', '主要用途', '主要建材', '屋齡(年)',\n",
    "       '建物移轉坪數', '格局-房數', '格局-廳數', '格局-衛浴數', '管理組織(Y/N)', '車位類別',\n",
    "       '車位總面積(坪)', '單價(萬/坪)', '\t車位總價(萬)', '最低樓層', '最高樓層']"
   ]
  },
  {
   "cell_type": "code",
   "execution_count": 47,
   "id": "d909b3f3",
   "metadata": {},
   "outputs": [
    {
     "name": "stdout",
     "output_type": "stream",
     "text": [
      "有遺失值之變數\n",
      "臨路(Y/N)      6634\n",
      "緯度           7191\n",
      "經度           7191\n",
      "都市土地使用分區      206\n",
      "主要建材           19\n",
      "屋齡(年)       10540\n",
      "車位類別        37147\n",
      "車位總面積(坪)     1012\n",
      "最低樓層          161\n",
      "最高樓層          161\n",
      "dtype: int64\n"
     ]
    }
   ],
   "source": [
    "print('有遺失值之變數')\n",
    "print(data.isna().sum()[data.isna().sum()!=0])"
   ]
  },
  {
   "cell_type": "code",
   "execution_count": 46,
   "id": "6497543e",
   "metadata": {},
   "outputs": [],
   "source": [
    "# 匯出資料\n",
    "data.to_csv(path_clean + r'/3_data.csv', sep=',', encoding='utf-8', index=False)"
   ]
  },
  {
   "cell_type": "code",
   "execution_count": null,
   "id": "2cf6b70c",
   "metadata": {},
   "outputs": [],
   "source": [
    "# 經緯度有 7532 個遺失值"
   ]
  },
  {
   "cell_type": "markdown",
   "id": "9dfef505",
   "metadata": {},
   "source": [
    "### 補完經緯度資料"
   ]
  },
  {
   "cell_type": "code",
   "execution_count": 3,
   "id": "8b884fb2",
   "metadata": {},
   "outputs": [],
   "source": [
    "path_ = r'/Users/liang/Documents/NCKU_DS/資料科學/數位沙盒/clean_data'\n",
    "data6 = pd.read_csv(path_ + r'/6_data.csv')\n"
   ]
  },
  {
   "cell_type": "code",
   "execution_count": 10,
   "id": "eefc9df8",
   "metadata": {},
   "outputs": [
    {
     "data": {
      "text/plain": [
       "count    57028.000000\n",
       "mean        71.240126\n",
       "std         29.754180\n",
       "min          0.000000\n",
       "25%         52.200000\n",
       "50%         66.200000\n",
       "75%         83.700000\n",
       "max        713.500000\n",
       "Name: 單價(萬/坪), dtype: float64"
      ]
     },
     "execution_count": 10,
     "metadata": {},
     "output_type": "execute_result"
    }
   ],
   "source": [
    "data6['單價(萬/坪)'].describe()"
   ]
  },
  {
   "cell_type": "code",
   "execution_count": 14,
   "id": "e2903f71",
   "metadata": {},
   "outputs": [],
   "source": [
    "tryy = data6[data6['單價(萬/坪)']==0]\n",
    "tryy.to_csv(path_ + r'/tryy.csv', sep=',', encoding='utf-8', index=False)"
   ]
  },
  {
   "cell_type": "code",
   "execution_count": null,
   "id": "9f0cbe33",
   "metadata": {},
   "outputs": [],
   "source": []
  },
  {
   "cell_type": "markdown",
   "id": "af0455e2",
   "metadata": {},
   "source": [
    "### 7_data\n",
    "- knnimputer 補遺失值\n",
    "- 刪除車位類別變數\n",
    "- 刪除地址欄位\n",
    "- 處理類別變數:oh, homals\n"
   ]
  },
  {
   "cell_type": "code",
   "execution_count": 24,
   "id": "5d1592c0",
   "metadata": {
    "tags": []
   },
   "outputs": [
    {
     "data": {
      "text/plain": [
       "(57028, 49)"
      ]
     },
     "execution_count": 24,
     "metadata": {},
     "output_type": "execute_result"
    }
   ],
   "source": [
    "path_ = r'/Users/liang/Documents/NCKU_DS/資料科學/數位沙盒/clean_data'\n",
    "data6 = pd.read_csv(path_ + r'/6_data.csv')\n",
    "data6.shape"
   ]
  },
  {
   "cell_type": "code",
   "execution_count": 25,
   "id": "075afd70",
   "metadata": {
    "tags": []
   },
   "outputs": [
    {
     "data": {
      "text/plain": [
       "(57028, 47)"
      ]
     },
     "execution_count": 25,
     "metadata": {},
     "output_type": "execute_result"
    }
   ],
   "source": [
    "# 刪除車位類別變數\n",
    "# 刪除地址欄位\n",
    "data6 = data6.drop(['門牌/地號', '車位類別'], axis=1)\n",
    "data6.shape"
   ]
  },
  {
   "cell_type": "code",
   "execution_count": 34,
   "id": "cb650517-0ecc-4009-a09e-258126409554",
   "metadata": {
    "tags": []
   },
   "outputs": [
    {
     "name": "stdout",
     "output_type": "stream",
     "text": [
      "臨路(Y/N)      6613\n",
      "都市土地使用分區      191\n",
      "主要建材           19\n",
      "屋齡(年)       10489\n",
      "車位總面積(坪)     1012\n",
      "最低樓層          158\n",
      "最高樓層          158\n",
      "dtype: int64\n"
     ]
    }
   ],
   "source": [
    "print(data6.isna().sum()[data6.isna().sum()!=0])"
   ]
  },
  {
   "cell_type": "code",
   "execution_count": 27,
   "id": "de5ce4ac",
   "metadata": {
    "tags": []
   },
   "outputs": [
    {
     "data": {
      "text/plain": [
       "(57028, 47)"
      ]
     },
     "execution_count": 27,
     "metadata": {},
     "output_type": "execute_result"
    }
   ],
   "source": [
    "# 將日期直接轉為自Unix纪元（1970年1月1日）以來的秒數\n",
    "data6['交易日'] = data6['交易日'].apply(lambda x: pd.to_datetime(x).timestamp())\n",
    "data6.shape"
   ]
  },
  {
   "cell_type": "code",
   "execution_count": 30,
   "id": "e84727b5",
   "metadata": {
    "tags": []
   },
   "outputs": [
    {
     "name": "stdout",
     "output_type": "stream",
     "text": [
      "(57028, 37)\n",
      "Index(['ID', '交易日', '緯度', '經度', '土地', '建物', '車位', '土地移轉坪數', '總樓層', '屋齡(年)',\n",
      "       '建物移轉坪數', '格局-房數', '格局-廳數', '格局-衛浴數', '車位總面積(坪)', '單價(萬/坪)', '車位總價(萬)',\n",
      "       '最低樓層', '最高樓層', 'conven_500', 'bus_500', 'dental_1000', 'clinic_1000',\n",
      "       '中醫_1000', 'nearest_mrt', 'nearest_hospital', 'nearest_conven',\n",
      "       'nearest_中醫', 'nearest_bus', 'nearest_junior', 'nearest_university',\n",
      "       'nearest_elementary', 'nearest_dental', 'nearest_clinic',\n",
      "       'nearest_postoffice', 'nearest_bank', 'nearest_high'],\n",
      "      dtype='object')\n",
      "(57028, 10)\n",
      "Index(['主要建材', '主要用途', '交易別', '交易標的', '建物型態', '管理組織(Y/N)', '臨路(Y/N)',\n",
      "       '都市土地使用分區', '鄉鎮市區', '頂樓註記(Y/N)'],\n",
      "      dtype='object')\n"
     ]
    }
   ],
   "source": [
    "# 連續\n",
    "data6_con = data6._get_numeric_data()\n",
    "print(data6_con.shape)\n",
    "print(data6_con.columns)\n",
    "\n",
    "# 類別\n",
    "data6_ca = data6.loc[:, data6.columns.difference(data6_con.columns)]\n",
    "print(data6_ca.shape)\n",
    "print(data6_ca.columns)"
   ]
  },
  {
   "cell_type": "code",
   "execution_count": 36,
   "id": "8a7cf426-a489-47f5-9faf-01c97e046447",
   "metadata": {
    "tags": []
   },
   "outputs": [
    {
     "data": {
      "text/plain": [
       "(57028, 47)"
      ]
     },
     "execution_count": 36,
     "metadata": {},
     "output_type": "execute_result"
    }
   ],
   "source": [
    "data6_con_ca = pd.concat([data6_con, data6_ca], axis = 1)\n",
    "data6_con_ca.shape"
   ]
  },
  {
   "cell_type": "code",
   "execution_count": 33,
   "id": "c31937e9-7ddf-4d05-b36b-d3126041a8a0",
   "metadata": {
    "tags": []
   },
   "outputs": [],
   "source": [
    "# 先做 KNNImputer\n",
    "# imputer = KNNImputer(n_neighbors=10, weights = 'distance')\n",
    "# data6_knnimpute = imputer.fit_transform(np.array(data6_con_ca))\n",
    "# data6_final = pd.DataFrame(data6_knnimpute, columns=o)"
   ]
  },
  {
   "cell_type": "code",
   "execution_count": 76,
   "id": "ceb3fc21",
   "metadata": {},
   "outputs": [],
   "source": [
    "# data6_ca"
   ]
  },
  {
   "cell_type": "code",
   "execution_count": 7,
   "id": "da565713",
   "metadata": {
    "tags": []
   },
   "outputs": [
    {
     "name": "stdout",
     "output_type": "stream",
     "text": [
      "one hot encoding (57028, 69)\n"
     ]
    }
   ],
   "source": [
    "# 將類別變數做oh\n",
    "data6_ca_encoded = pd.get_dummies(data6_ca, columns=data6_ca.columns)\n",
    "print('one hot encoding', data6_ca_encoded.shape)\n",
    "\n",
    "# 將類別變數匯出 再r上做homals\n",
    "# data6_ca.to_csv(path_ + r'/data6_ca.csv', sep=',', encoding='utf-8', index=False)"
   ]
  },
  {
   "cell_type": "code",
   "execution_count": 92,
   "id": "169ffd70",
   "metadata": {},
   "outputs": [
    {
     "name": "stdout",
     "output_type": "stream",
     "text": [
      "homals (57028, 10)\n"
     ]
    }
   ],
   "source": [
    "# r 做的homals\n",
    "# homals = pd.read_csv(path_ + r'/homals.csv')\n",
    "# print('homals', homals.shape)"
   ]
  },
  {
   "cell_type": "code",
   "execution_count": 19,
   "id": "f1f077fc",
   "metadata": {
    "tags": []
   },
   "outputs": [
    {
     "name": "stdout",
     "output_type": "stream",
     "text": [
      "(57028, 106)\n"
     ]
    }
   ],
   "source": [
    "# 將連續變數與類別變數合併\n",
    "\n",
    "# oh\n",
    "data6_oh = pd.concat([data6_con, data6_ca_encoded], axis = 1)\n",
    "print(data6_oh.shape)\n",
    "\n",
    "# homals\n",
    "# data6_homals = pd.concat([data6_con, homals], axis = 1)\n",
    "# print(data6_homals.shape)"
   ]
  },
  {
   "cell_type": "code",
   "execution_count": 20,
   "id": "c06c3851",
   "metadata": {
    "tags": []
   },
   "outputs": [],
   "source": [
    "o = data6_oh.columns\n",
    "# h = data6_homals.columns"
   ]
  },
  {
   "cell_type": "code",
   "execution_count": 21,
   "id": "fb0e4326-1fac-4748-9cba-652a439af686",
   "metadata": {
    "tags": []
   },
   "outputs": [
    {
     "name": "stdout",
     "output_type": "stream",
     "text": [
      "屋齡(年)       10489\n",
      "車位總面積(坪)     1012\n",
      "最低樓層          158\n",
      "最高樓層          158\n",
      "dtype: int64\n"
     ]
    }
   ],
   "source": [
    "print(data6_oh.isna().sum()[data6_oh.isna().sum()!=0])"
   ]
  },
  {
   "cell_type": "code",
   "execution_count": 104,
   "id": "9bfadae6",
   "metadata": {},
   "outputs": [],
   "source": [
    "# knn imputer\n",
    "\n",
    "# oh\n",
    "imputer = KNNImputer(n_neighbors=10, weights = 'distance')\n",
    "oh_knnimpute = imputer.fit_transform(np.array(data6_oh))\n",
    "\n",
    "# homals\n",
    "# imputer = KNNImputer(n_neighbors=10, weights = 'distance')\n",
    "# homals_knnimpute = imputer.fit_transform(np.array(data6_homals))"
   ]
  },
  {
   "cell_type": "code",
   "execution_count": 107,
   "id": "bcf48c9f",
   "metadata": {},
   "outputs": [],
   "source": [
    "# data_homals = pd.DataFrame(homals_knnimpute, columns=h)"
   ]
  },
  {
   "cell_type": "code",
   "execution_count": 112,
   "id": "484df755",
   "metadata": {},
   "outputs": [
    {
     "name": "stdout",
     "output_type": "stream",
     "text": [
      "(57028, 106)\n",
      "(57028, 47)\n"
     ]
    }
   ],
   "source": [
    "print(data_oh.shape)\n",
    "# print(data_homals.shape)"
   ]
  },
  {
   "cell_type": "code",
   "execution_count": 109,
   "id": "7e85ebef",
   "metadata": {},
   "outputs": [],
   "source": [
    "data_oh.to_csv(path_ + r'/7_data_oh.csv', sep=',', encoding='utf-8', index=False)\n",
    "# data_homals.to_csv(path_ + r'/7_data_homals.csv', sep=',', encoding='utf-8', index=False)"
   ]
  },
  {
   "cell_type": "code",
   "execution_count": null,
   "id": "1d96c509",
   "metadata": {},
   "outputs": [],
   "source": []
  },
  {
   "cell_type": "markdown",
   "id": "8e3c1ca5",
   "metadata": {},
   "source": [
    "### 11_data\n",
    "刪除單價為0"
   ]
  },
  {
   "cell_type": "code",
   "execution_count": 17,
   "id": "52b99aa5",
   "metadata": {},
   "outputs": [],
   "source": [
    "path_ = r'/Users/liang/Documents/NCKU_DS/資料科學/數位沙盒/clean_data'\n",
    "data10 = pd.read_csv(path_ + r'/10_data.csv')"
   ]
  },
  {
   "cell_type": "code",
   "execution_count": 18,
   "id": "8594beb6",
   "metadata": {},
   "outputs": [
    {
     "data": {
      "text/html": [
       "<div>\n",
       "<style scoped>\n",
       "    .dataframe tbody tr th:only-of-type {\n",
       "        vertical-align: middle;\n",
       "    }\n",
       "\n",
       "    .dataframe tbody tr th {\n",
       "        vertical-align: top;\n",
       "    }\n",
       "\n",
       "    .dataframe thead th {\n",
       "        text-align: right;\n",
       "    }\n",
       "</style>\n",
       "<table border=\"1\" class=\"dataframe\">\n",
       "  <thead>\n",
       "    <tr style=\"text-align: right;\">\n",
       "      <th></th>\n",
       "      <th>ID</th>\n",
       "      <th>交易日</th>\n",
       "      <th>緯度</th>\n",
       "      <th>經度</th>\n",
       "      <th>土地</th>\n",
       "      <th>建物</th>\n",
       "      <th>車位</th>\n",
       "      <th>土地移轉坪數</th>\n",
       "      <th>總樓層</th>\n",
       "      <th>屋齡(年)</th>\n",
       "      <th>...</th>\n",
       "      <th>單價_16</th>\n",
       "      <th>單價_17</th>\n",
       "      <th>單價_18</th>\n",
       "      <th>單價_19</th>\n",
       "      <th>單價_20</th>\n",
       "      <th>單價_21</th>\n",
       "      <th>單價_22</th>\n",
       "      <th>單價_23</th>\n",
       "      <th>單價_24</th>\n",
       "      <th>單價(萬/坪)</th>\n",
       "    </tr>\n",
       "  </thead>\n",
       "  <tbody>\n",
       "    <tr>\n",
       "      <th>0</th>\n",
       "      <td>0.794471</td>\n",
       "      <td>0.0</td>\n",
       "      <td>0.391260</td>\n",
       "      <td>0.416567</td>\n",
       "      <td>0.000000</td>\n",
       "      <td>0.02439</td>\n",
       "      <td>0.026316</td>\n",
       "      <td>0.002585</td>\n",
       "      <td>0.309524</td>\n",
       "      <td>0.002879</td>\n",
       "      <td>...</td>\n",
       "      <td>0.045777</td>\n",
       "      <td>0.04419</td>\n",
       "      <td>0.059085</td>\n",
       "      <td>0.069863</td>\n",
       "      <td>0.027628</td>\n",
       "      <td>0.053462</td>\n",
       "      <td>0.065563</td>\n",
       "      <td>0.021953</td>\n",
       "      <td>0.045576</td>\n",
       "      <td>115.8</td>\n",
       "    </tr>\n",
       "    <tr>\n",
       "      <th>1</th>\n",
       "      <td>0.794495</td>\n",
       "      <td>0.0</td>\n",
       "      <td>0.467469</td>\n",
       "      <td>0.927570</td>\n",
       "      <td>0.000000</td>\n",
       "      <td>0.02439</td>\n",
       "      <td>0.052632</td>\n",
       "      <td>0.004234</td>\n",
       "      <td>0.333333</td>\n",
       "      <td>0.100768</td>\n",
       "      <td>...</td>\n",
       "      <td>0.045777</td>\n",
       "      <td>0.04419</td>\n",
       "      <td>0.059085</td>\n",
       "      <td>0.069863</td>\n",
       "      <td>0.027628</td>\n",
       "      <td>0.053462</td>\n",
       "      <td>0.065563</td>\n",
       "      <td>0.021953</td>\n",
       "      <td>0.045576</td>\n",
       "      <td>51.9</td>\n",
       "    </tr>\n",
       "    <tr>\n",
       "      <th>2</th>\n",
       "      <td>0.794518</td>\n",
       "      <td>0.0</td>\n",
       "      <td>0.359303</td>\n",
       "      <td>0.264357</td>\n",
       "      <td>0.000000</td>\n",
       "      <td>0.02439</td>\n",
       "      <td>0.000000</td>\n",
       "      <td>0.001640</td>\n",
       "      <td>0.571429</td>\n",
       "      <td>0.001919</td>\n",
       "      <td>...</td>\n",
       "      <td>0.045777</td>\n",
       "      <td>0.04419</td>\n",
       "      <td>0.059085</td>\n",
       "      <td>0.069863</td>\n",
       "      <td>0.027628</td>\n",
       "      <td>0.053462</td>\n",
       "      <td>0.065563</td>\n",
       "      <td>0.021953</td>\n",
       "      <td>0.045576</td>\n",
       "      <td>59.3</td>\n",
       "    </tr>\n",
       "    <tr>\n",
       "      <th>3</th>\n",
       "      <td>0.794541</td>\n",
       "      <td>0.0</td>\n",
       "      <td>0.530375</td>\n",
       "      <td>0.329790</td>\n",
       "      <td>0.000000</td>\n",
       "      <td>0.02439</td>\n",
       "      <td>0.052632</td>\n",
       "      <td>0.009023</td>\n",
       "      <td>0.261905</td>\n",
       "      <td>0.119002</td>\n",
       "      <td>...</td>\n",
       "      <td>0.045777</td>\n",
       "      <td>0.04419</td>\n",
       "      <td>0.059085</td>\n",
       "      <td>0.069863</td>\n",
       "      <td>0.027628</td>\n",
       "      <td>0.053462</td>\n",
       "      <td>0.065563</td>\n",
       "      <td>0.021953</td>\n",
       "      <td>0.045576</td>\n",
       "      <td>50.2</td>\n",
       "    </tr>\n",
       "    <tr>\n",
       "      <th>4</th>\n",
       "      <td>0.794565</td>\n",
       "      <td>0.0</td>\n",
       "      <td>0.904310</td>\n",
       "      <td>0.540819</td>\n",
       "      <td>0.038462</td>\n",
       "      <td>0.02439</td>\n",
       "      <td>0.000000</td>\n",
       "      <td>0.369285</td>\n",
       "      <td>0.023810</td>\n",
       "      <td>0.564299</td>\n",
       "      <td>...</td>\n",
       "      <td>0.045777</td>\n",
       "      <td>0.04419</td>\n",
       "      <td>0.059085</td>\n",
       "      <td>0.069863</td>\n",
       "      <td>0.027628</td>\n",
       "      <td>0.053462</td>\n",
       "      <td>0.065563</td>\n",
       "      <td>0.021953</td>\n",
       "      <td>0.045576</td>\n",
       "      <td>534.7</td>\n",
       "    </tr>\n",
       "  </tbody>\n",
       "</table>\n",
       "<p>5 rows × 190 columns</p>\n",
       "</div>"
      ],
      "text/plain": [
       "         ID  交易日        緯度        經度        土地       建物        車位    土地移轉坪數  \\\n",
       "0  0.794471  0.0  0.391260  0.416567  0.000000  0.02439  0.026316  0.002585   \n",
       "1  0.794495  0.0  0.467469  0.927570  0.000000  0.02439  0.052632  0.004234   \n",
       "2  0.794518  0.0  0.359303  0.264357  0.000000  0.02439  0.000000  0.001640   \n",
       "3  0.794541  0.0  0.530375  0.329790  0.000000  0.02439  0.052632  0.009023   \n",
       "4  0.794565  0.0  0.904310  0.540819  0.038462  0.02439  0.000000  0.369285   \n",
       "\n",
       "        總樓層     屋齡(年)  ...     單價_16    單價_17     單價_18     單價_19     單價_20  \\\n",
       "0  0.309524  0.002879  ...  0.045777  0.04419  0.059085  0.069863  0.027628   \n",
       "1  0.333333  0.100768  ...  0.045777  0.04419  0.059085  0.069863  0.027628   \n",
       "2  0.571429  0.001919  ...  0.045777  0.04419  0.059085  0.069863  0.027628   \n",
       "3  0.261905  0.119002  ...  0.045777  0.04419  0.059085  0.069863  0.027628   \n",
       "4  0.023810  0.564299  ...  0.045777  0.04419  0.059085  0.069863  0.027628   \n",
       "\n",
       "      單價_21     單價_22     單價_23     單價_24  單價(萬/坪)  \n",
       "0  0.053462  0.065563  0.021953  0.045576    115.8  \n",
       "1  0.053462  0.065563  0.021953  0.045576     51.9  \n",
       "2  0.053462  0.065563  0.021953  0.045576     59.3  \n",
       "3  0.053462  0.065563  0.021953  0.045576     50.2  \n",
       "4  0.053462  0.065563  0.021953  0.045576    534.7  \n",
       "\n",
       "[5 rows x 190 columns]"
      ]
     },
     "execution_count": 18,
     "metadata": {},
     "output_type": "execute_result"
    }
   ],
   "source": [
    "data10.head()"
   ]
  },
  {
   "cell_type": "code",
   "execution_count": 21,
   "id": "846a3ee1",
   "metadata": {},
   "outputs": [],
   "source": [
    "data11 = data10[data10['單價(萬/坪)']!=0]"
   ]
  },
  {
   "cell_type": "code",
   "execution_count": 23,
   "id": "dcfb3e73",
   "metadata": {},
   "outputs": [
    {
     "data": {
      "text/plain": [
       "(33142, 190)"
      ]
     },
     "execution_count": 23,
     "metadata": {},
     "output_type": "execute_result"
    }
   ],
   "source": [
    "data11.shape"
   ]
  },
  {
   "cell_type": "code",
   "execution_count": 24,
   "id": "847cc916",
   "metadata": {},
   "outputs": [],
   "source": [
    "data11.to_csv(path_ + r'/11_data.csv', sep=',', encoding='utf-8', index=False)"
   ]
  },
  {
   "cell_type": "code",
   "execution_count": null,
   "id": "a9161792",
   "metadata": {},
   "outputs": [],
   "source": []
  },
  {
   "cell_type": "code",
   "execution_count": null,
   "id": "f1e4b2b5-dba1-4fcc-8dbd-a3d55c583a92",
   "metadata": {},
   "outputs": [],
   "source": []
  },
  {
   "cell_type": "markdown",
   "id": "1010f1e1",
   "metadata": {},
   "source": [
    "### 12_data 按時間切 train test"
   ]
  },
  {
   "cell_type": "code",
   "execution_count": 12,
   "id": "756aed06",
   "metadata": {},
   "outputs": [],
   "source": [
    "path_ = r'/Users/liang/Documents/NCKU_DS/資料科學/數位沙盒/clean_data'\n",
    "data8 = pd.read_csv(path_ + r'/8_data.csv')"
   ]
  },
  {
   "cell_type": "code",
   "execution_count": 34,
   "id": "ecc62ed8",
   "metadata": {},
   "outputs": [],
   "source": [
    "data8_11 = data8[data8['單價(萬/坪)']!=0]"
   ]
  },
  {
   "cell_type": "code",
   "execution_count": 73,
   "id": "e8c92782",
   "metadata": {},
   "outputs": [
    {
     "data": {
      "text/plain": [
       "23875   2019-12-01\n",
       "23876   2019-12-01\n",
       "23877   2019-12-01\n",
       "23878   2019-12-01\n",
       "23879   2019-12-01\n",
       "           ...    \n",
       "57023   2022-12-31\n",
       "57024   2022-12-31\n",
       "57025   2022-12-31\n",
       "57026   2022-12-31\n",
       "57027   2022-12-31\n",
       "Name: 交易日, Length: 33142, dtype: datetime64[ns]"
      ]
     },
     "execution_count": 73,
     "metadata": {},
     "output_type": "execute_result"
    }
   ],
   "source": [
    "new = pd.to_datetime(data8_11['交易日'], unit='s')[data8_11.shape[0]-33142:]\n",
    "new.to_csv(path_ + r'/11_data_date.csv', sep=',', encoding='utf-8', index=False)\n",
    "new"
   ]
  },
  {
   "cell_type": "code",
   "execution_count": 62,
   "id": "e5623193",
   "metadata": {},
   "outputs": [
    {
     "data": {
      "text/plain": [
       "23875   2019-12-01\n",
       "23876   2019-12-01\n",
       "23877   2019-12-01\n",
       "23878   2019-12-01\n",
       "23879   2019-12-01\n",
       "           ...    \n",
       "50415   2022-06-15\n",
       "50416   2022-06-15\n",
       "50417   2022-06-15\n",
       "50418   2022-06-15\n",
       "50419   2022-06-15\n",
       "Name: 交易日, Length: 26539, dtype: datetime64[ns]"
      ]
     },
     "execution_count": 62,
     "metadata": {},
     "output_type": "execute_result"
    }
   ],
   "source": [
    "new[:-6603]"
   ]
  },
  {
   "cell_type": "code",
   "execution_count": 63,
   "id": "f2cae0b3",
   "metadata": {},
   "outputs": [
    {
     "data": {
      "text/plain": [
       "50420   2022-06-16\n",
       "50421   2022-06-16\n",
       "50422   2022-06-16\n",
       "50423   2022-06-16\n",
       "50424   2022-06-16\n",
       "           ...    \n",
       "57023   2022-12-31\n",
       "57024   2022-12-31\n",
       "57025   2022-12-31\n",
       "57026   2022-12-31\n",
       "57027   2022-12-31\n",
       "Name: 交易日, Length: 6603, dtype: datetime64[ns]"
      ]
     },
     "execution_count": 63,
     "metadata": {},
     "output_type": "execute_result"
    }
   ],
   "source": [
    "new[-6603:]"
   ]
  },
  {
   "cell_type": "code",
   "execution_count": 64,
   "id": "d6fcc97d",
   "metadata": {},
   "outputs": [
    {
     "name": "stdout",
     "output_type": "stream",
     "text": [
      "0.800766399131012\n",
      "0.199233600868988\n"
     ]
    }
   ],
   "source": [
    "print(26539/33142)\n",
    "print(6603/33142)"
   ]
  },
  {
   "cell_type": "code",
   "execution_count": 66,
   "id": "7ca2bfdd",
   "metadata": {},
   "outputs": [
    {
     "data": {
      "text/plain": [
       "(33142, 190)"
      ]
     },
     "execution_count": 66,
     "metadata": {},
     "output_type": "execute_result"
    }
   ],
   "source": [
    "path_ = r'/Users/liang/Documents/NCKU_DS/資料科學/數位沙盒/clean_data'\n",
    "data11 = pd.read_csv(path_ + r'/11_data.csv')\n",
    "data11.shape"
   ]
  },
  {
   "cell_type": "code",
   "execution_count": 72,
   "id": "c48d3f00",
   "metadata": {},
   "outputs": [],
   "source": [
    "data12_train = data11.iloc[:26539, ] # 2022-06-15以後\n",
    "data12_test = data11.iloc[26539:, ]\n",
    "\n",
    "data12_train.to_csv(path_ + r'/12_data_train.csv', sep=',', encoding='utf-8', index=False)\n",
    "data12_test.to_csv(path_ + r'/12_data_test.csv', sep=',', encoding='utf-8', index=False)"
   ]
  },
  {
   "cell_type": "code",
   "execution_count": 3,
   "id": "bc582289",
   "metadata": {
    "tags": []
   },
   "outputs": [
    {
     "name": "stdout",
     "output_type": "stream",
     "text": [
      "(26539, 190)\n",
      "(6603, 190)\n"
     ]
    }
   ],
   "source": [
    "path_ = r'/Users/liang/Documents/NCKU_DS/資料科學/數位沙盒/clean_data'\n",
    "data12_train = pd.read_csv(path_ + r'/12_data_train.csv')\n",
    "data12_test = pd.read_csv(path_ + r'/12_data_test.csv')\n",
    "\n",
    "print(data12_train.shape)\n",
    "print(data12_test.shape)"
   ]
  },
  {
   "cell_type": "code",
   "execution_count": 7,
   "id": "416acac5-0820-41d3-9600-fc3bb3e08e5d",
   "metadata": {
    "tags": []
   },
   "outputs": [
    {
     "name": "stdout",
     "output_type": "stream",
     "text": [
      "ID         0\n",
      "交易日        0\n",
      "緯度         0\n",
      "經度         0\n",
      "土地         0\n",
      "          ..\n",
      "單價_21      0\n",
      "單價_22      0\n",
      "單價_23      0\n",
      "單價_24      0\n",
      "單價(萬/坪)    0\n",
      "Length: 190, dtype: int64\n",
      "ID         0\n",
      "交易日        0\n",
      "緯度         0\n",
      "經度         0\n",
      "土地         0\n",
      "          ..\n",
      "單價_21      0\n",
      "單價_22      0\n",
      "單價_23      0\n",
      "單價_24      0\n",
      "單價(萬/坪)    0\n",
      "Length: 190, dtype: int64\n"
     ]
    }
   ],
   "source": [
    "print(data12_train.isna().sum())#[data12_train.isna().sum()!=0])\n",
    "print(data12_test.isna().sum())#[data12_train.isna().sum()!=0])"
   ]
  },
  {
   "cell_type": "code",
   "execution_count": null,
   "id": "8bb036c2-9143-4475-9ee1-bdb4964ba86d",
   "metadata": {},
   "outputs": [],
   "source": []
  }
 ],
 "metadata": {
  "kernelspec": {
   "display_name": "Python 3 (ipykernel)",
   "language": "python",
   "name": "python3"
  },
  "language_info": {
   "codemirror_mode": {
    "name": "ipython",
    "version": 3
   },
   "file_extension": ".py",
   "mimetype": "text/x-python",
   "name": "python",
   "nbconvert_exporter": "python",
   "pygments_lexer": "ipython3",
   "version": "3.11.5"
  }
 },
 "nbformat": 4,
 "nbformat_minor": 5
}
